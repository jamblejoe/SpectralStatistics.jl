{
 "cells": [
  {
   "cell_type": "markdown",
   "metadata": {},
   "source": [
    "TL:DR:\n",
    "- overall good\n",
    "- some kwargs of functions do not have a standard parameter. It is convention in Julia that they ALWAYS have to !! Either move the kwargs into the models or make them a normal argument or give them standard values\n",
    "- if models do not contain any parameters, change to `Val`\n",
    "- it seems that BerryRobnik, etc have some parameters. Then move them from the function arguemnts into the Model structs. This way people do not have to remember function argument order\n",
    "- dot syntax with the methods `level_spacing_pdf`, etc would be nice, but the vectorized argument works as well"
   ]
  },
  {
   "cell_type": "code",
   "execution_count": 1,
   "metadata": {},
   "outputs": [
    {
     "name": "stderr",
     "output_type": "stream",
     "text": [
      "\u001b[32m\u001b[1m  Activating\u001b[22m\u001b[39m project at `~/MEGA/phd/Julia/SpectralStatistics.jl/notebooks/models`\n"
     ]
    }
   ],
   "source": [
    "import Pkg; Pkg.activate(@__DIR__)"
   ]
  },
  {
   "cell_type": "code",
   "execution_count": 9,
   "metadata": {},
   "outputs": [],
   "source": [
    "import SpectralStatistics\n",
    "s = SpectralStatistics\n",
    "\n",
    "using Plots"
   ]
  },
  {
   "cell_type": "code",
   "execution_count": 14,
   "metadata": {},
   "outputs": [],
   "source": [
    "# make dot syntax work with models\n",
    "# level_spacing_pdf.(GOE(), x)\n",
    "#Base.length(::Model) = 1\n",
    "#Base.iterate(::Model) = nothing"
   ]
  },
  {
   "cell_type": "code",
   "execution_count": 13,
   "metadata": {},
   "outputs": [
    {
     "data": {
      "image/png": "[encoded data removed]",
      "image/svg+xml": "<?xml version=\"1.0\" encoding=\"utf-8\"?>\n<svg xmlns=\"http://www.w3.org/2000/svg\" xmlns:xlink=\"http://www.w3.org/1999/xlink\" width=\"600\" height=\"400\" viewBox=\"0 0 2400 1600\">\n<defs>\n  <clipPath id=\"clip100\">\n    <rect x=\"0\" y=\"0\" width=\"2400\" height=\"1600\"/>\n  </clipPath>\n</defs>\n<path clip-path=\"url(#clip100)\" d=\"\nM0 1600 L2400 1600 L2400 0 L0 0  Z\n  \" fill=\"#ffffff\" fill-rule=\"evenodd\" fill-opacity=\"1\"/>\n<defs>\n  <clipPath id=\"clip101\">\n    <rect x=\"480\" y=\"0\" width=\"1681\" height=\"1600\"/>\n  </clipPath>\n</defs>\n<path clip-path=\"url(#clip100)\" d=\"\nM156.598 1486.45 L2352.76 1486.45 L2352.76 47.2441 L156.598 47.2441  Z\n  \" fill=\"#ffffff\" fill-rule=\"evenodd\" fill-opacity=\"1\"/>\n<defs>\n  <clipPath id=\"clip102\">\n    <rect x=\"156\" y=\"47\" width=\"2197\" height=\"1440\"/>\n  </clipPath>\n</defs>\n<polyline clip-path=\"url(#clip102)\" style=\"stroke:#000000; stroke-linecap:round; stroke-linejoin:round; stroke-width:2; stroke-opacity:0.1; fill:none\" points=\"\n  425.938,1486.45 425.938,47.2441 \n  \"/>\n<polyline clip-path=\"url(#clip102)\" style=\"stroke:#000000; stroke-linecap:round; stroke-linejoin:round; stroke-width:2; stroke-opacity:0.1; fill:none\" points=\"\n  840.308,1486.45 840.308,47.2441 \n  \"/>\n<polyline clip-path=\"url(#clip102)\" style=\"stroke:#000000; stroke-linecap:round; stroke-linejoin:round; stroke-width:2; stroke-opacity:0.1; fill:none\" points=\"\n  1254.68,1486.45 1254.68,47.2441 \n  \"/>\n<polyline clip-path=\"url(#clip102)\" style=\"stroke:#000000; stroke-linecap:round; stroke-linejoin:round; stroke-width:2; stroke-opacity:0.1; fill:none\" points=\"\n  1669.05,1486.45 1669.05,47.2441 \n  \"/>\n<polyline clip-path=\"url(#clip102)\" style=\"stroke:#000000; stroke-linecap:round; stroke-linejoin:round; stroke-width:2; stroke-opacity:0.1; fill:none\" points=\"\n  2083.42,1486.45 2083.42,47.2441 \n  \"/>\n<polyline clip-path=\"url(#clip100)\" style=\"stroke:#000000; stroke-linecap:round; stroke-linejoin:round; stroke-width:4; stroke-opacity:1; fill:none\" points=\"\n  156.598,1486.45 2352.76,1486.45 \n  \"/>\n<polyline clip-path=\"url(#clip100)\" style=\"stroke:#000000; stroke-linecap:round; stroke-linejoin:round; stroke-width:4; stroke-opacity:1; fill:none\" points=\"\n  425.938,1486.45 425.938,1467.55 \n  \"/>\n<polyline clip-path=\"url(#clip100)\" style=\"stroke:#000000; stroke-linecap:round; stroke-linejoin:round; stroke-width:4; stroke-opacity:1; fill:none\" points=\"\n  840.308,1486.45 840.308,1467.55 \n  \"/>\n<polyline clip-path=\"url(#clip100)\" style=\"stroke:#000000; stroke-linecap:round; stroke-linejoin:round; stroke-width:4; stroke-opacity:1; fill:none\" points=\"\n  1254.68,1486.45 1254.68,1467.55 \n  \"/>\n<polyline clip-path=\"url(#clip100)\" style=\"stroke:#000000; stroke-linecap:round; stroke-linejoin:round; stroke-width:4; stroke-opacity:1; fill:none\" points=\"\n  1669.05,1486.45 1669.05,1467.55 \n  \"/>\n<polyline clip-path=\"url(#clip100)\" style=\"stroke:#000000; stroke-linecap:round; stroke-linejoin:round; stroke-width:4; stroke-opacity:1; fill:none\" points=\"\n  2083.42,1486.45 2083.42,1467.55 \n  \"/>\n<path clip-path=\"url(#clip100)\" d=\"M420.591 1544.91 L436.91 1544.91 L436.91 1548.85 L414.966 1548.85 L414.966 1544.91 Q417.628 1542.16 422.211 1537.53 Q426.818 1532.88 427.999 1531.53 Q430.244 1529.01 431.123 1527.27 Q432.026 1525.51 432.026 1523.82 Q432.026 1521.07 430.082 1519.33 Q428.161 1517.6 425.059 1517.6 Q422.86 1517.6 420.406 1518.36 Q417.975 1519.13 415.198 1520.68 L415.198 1515.95 Q418.022 1514.82 420.475 1514.24 Q422.929 1513.66 424.966 1513.66 Q430.336 1513.66 433.531 1516.35 Q436.725 1519.03 436.725 1523.52 Q436.725 1525.65 435.915 1527.57 Q435.128 1529.47 433.022 1532.07 Q432.443 1532.74 429.341 1535.95 Q426.239 1539.15 420.591 1544.91 Z\" fill=\"#000000\" fill-rule=\"evenodd\" fill-opacity=\"1\" /><path clip-path=\"url(#clip100)\" d=\"M843.317 1518.36 L831.511 1536.81 L843.317 1536.81 L843.317 1518.36 M842.09 1514.29 L847.97 1514.29 L847.97 1536.81 L852.9 1536.81 L852.9 1540.7 L847.97 1540.7 L847.97 1548.85 L843.317 1548.85 L843.317 1540.7 L827.715 1540.7 L827.715 1536.19 L842.09 1514.29 Z\" fill=\"#000000\" fill-rule=\"evenodd\" fill-opacity=\"1\" /><path clip-path=\"url(#clip100)\" d=\"M1255.08 1529.7 Q1251.93 1529.7 1250.08 1531.86 Q1248.25 1534.01 1248.25 1537.76 Q1248.25 1541.49 1250.08 1543.66 Q1251.93 1545.82 1255.08 1545.82 Q1258.23 1545.82 1260.06 1543.66 Q1261.91 1541.49 1261.91 1537.76 Q1261.91 1534.01 1260.06 1531.86 Q1258.23 1529.7 1255.08 1529.7 M1264.36 1515.05 L1264.36 1519.31 Q1262.61 1518.48 1260.8 1518.04 Q1259.02 1517.6 1257.26 1517.6 Q1252.63 1517.6 1250.17 1520.72 Q1247.74 1523.85 1247.4 1530.17 Q1248.76 1528.15 1250.82 1527.09 Q1252.88 1526 1255.36 1526 Q1260.57 1526 1263.58 1529.17 Q1266.61 1532.32 1266.61 1537.76 Q1266.61 1543.08 1263.46 1546.3 Q1260.31 1549.52 1255.08 1549.52 Q1249.09 1549.52 1245.92 1544.94 Q1242.74 1540.33 1242.74 1531.6 Q1242.74 1523.41 1246.63 1518.55 Q1250.52 1513.66 1257.07 1513.66 Q1258.83 1513.66 1260.61 1514.01 Q1262.42 1514.36 1264.36 1515.05 Z\" fill=\"#000000\" fill-rule=\"evenodd\" fill-opacity=\"1\" /><path clip-path=\"url(#clip100)\" d=\"M1669.05 1532.44 Q1665.71 1532.44 1663.79 1534.22 Q1661.89 1536 1661.89 1539.13 Q1661.89 1542.25 1663.79 1544.03 Q1665.71 1545.82 1669.05 1545.82 Q1672.38 1545.82 1674.3 1544.03 Q1676.22 1542.23 1676.22 1539.13 Q1676.22 1536 1674.3 1534.22 Q1672.4 1532.44 1669.05 1532.44 M1664.37 1530.45 Q1661.36 1529.7 1659.67 1527.64 Q1658 1525.58 1658 1522.62 Q1658 1518.48 1660.94 1516.07 Q1663.91 1513.66 1669.05 1513.66 Q1674.21 1513.66 1677.15 1516.07 Q1680.09 1518.48 1680.09 1522.62 Q1680.09 1525.58 1678.4 1527.64 Q1676.73 1529.7 1673.75 1530.45 Q1677.13 1531.23 1679 1533.52 Q1680.9 1535.82 1680.9 1539.13 Q1680.9 1544.15 1677.82 1546.83 Q1674.76 1549.52 1669.05 1549.52 Q1663.33 1549.52 1660.25 1546.83 Q1657.19 1544.15 1657.19 1539.13 Q1657.19 1535.82 1659.09 1533.52 Q1660.99 1531.23 1664.37 1530.45 M1662.66 1523.06 Q1662.66 1525.75 1664.32 1527.25 Q1666.01 1528.76 1669.05 1528.76 Q1672.06 1528.76 1673.75 1527.25 Q1675.46 1525.75 1675.46 1523.06 Q1675.46 1520.38 1673.75 1518.87 Q1672.06 1517.37 1669.05 1517.37 Q1666.01 1517.37 1664.32 1518.87 Q1662.66 1520.38 1662.66 1523.06 Z\" fill=\"#000000\" fill-rule=\"evenodd\" fill-opacity=\"1\" /><path clip-path=\"url(#clip100)\" d=\"M2058.1 1544.91 L2065.74 1544.91 L2065.74 1518.55 L2057.43 1520.21 L2057.43 1515.95 L2065.7 1514.29 L2070.37 1514.29 L2070.37 1544.91 L2078.01 1544.91 L2078.01 1548.85 L2058.1 1548.85 L2058.1 1544.91 Z\" fill=\"#000000\" fill-rule=\"evenodd\" fill-opacity=\"1\" /><path clip-path=\"url(#clip100)\" d=\"M2097.46 1517.37 Q2093.84 1517.37 2092.02 1520.93 Q2090.21 1524.47 2090.21 1531.6 Q2090.21 1538.71 2092.02 1542.27 Q2093.84 1545.82 2097.46 1545.82 Q2101.09 1545.82 2102.89 1542.27 Q2104.72 1538.71 2104.72 1531.6 Q2104.72 1524.47 2102.89 1520.93 Q2101.09 1517.37 2097.46 1517.37 M2097.46 1513.66 Q2103.27 1513.66 2106.32 1518.27 Q2109.4 1522.85 2109.4 1531.6 Q2109.4 1540.33 2106.32 1544.94 Q2103.27 1549.52 2097.46 1549.52 Q2091.64 1549.52 2088.57 1544.94 Q2085.51 1540.33 2085.51 1531.6 Q2085.51 1522.85 2088.57 1518.27 Q2091.64 1513.66 2097.46 1513.66 Z\" fill=\"#000000\" fill-rule=\"evenodd\" fill-opacity=\"1\" /><polyline clip-path=\"url(#clip102)\" style=\"stroke:#000000; stroke-linecap:round; stroke-linejoin:round; stroke-width:2; stroke-opacity:0.1; fill:none\" points=\"\n  156.598,1445.72 2352.76,1445.72 \n  \"/>\n<polyline clip-path=\"url(#clip102)\" style=\"stroke:#000000; stroke-linecap:round; stroke-linejoin:round; stroke-width:2; stroke-opacity:0.1; fill:none\" points=\"\n  156.598,1088.49 2352.76,1088.49 \n  \"/>\n<polyline clip-path=\"url(#clip102)\" style=\"stroke:#000000; stroke-linecap:round; stroke-linejoin:round; stroke-width:2; stroke-opacity:0.1; fill:none\" points=\"\n  156.598,731.274 2352.76,731.274 \n  \"/>\n<polyline clip-path=\"url(#clip102)\" style=\"stroke:#000000; stroke-linecap:round; stroke-linejoin:round; stroke-width:2; stroke-opacity:0.1; fill:none\" points=\"\n  156.598,374.053 2352.76,374.053 \n  \"/>\n<polyline clip-path=\"url(#clip100)\" style=\"stroke:#000000; stroke-linecap:round; stroke-linejoin:round; stroke-width:4; stroke-opacity:1; fill:none\" points=\"\n  156.598,1486.45 156.598,47.2441 \n  \"/>\n<polyline clip-path=\"url(#clip100)\" style=\"stroke:#000000; stroke-linecap:round; stroke-linejoin:round; stroke-width:4; stroke-opacity:1; fill:none\" points=\"\n  156.598,1445.72 175.496,1445.72 \n  \"/>\n<polyline clip-path=\"url(#clip100)\" style=\"stroke:#000000; stroke-linecap:round; stroke-linejoin:round; stroke-width:4; stroke-opacity:1; fill:none\" points=\"\n  156.598,1088.49 175.496,1088.49 \n  \"/>\n<polyline clip-path=\"url(#clip100)\" style=\"stroke:#000000; stroke-linecap:round; stroke-linejoin:round; stroke-width:4; stroke-opacity:1; fill:none\" points=\"\n  156.598,731.274 175.496,731.274 \n  \"/>\n<polyline clip-path=\"url(#clip100)\" style=\"stroke:#000000; stroke-linecap:round; stroke-linejoin:round; stroke-width:4; stroke-opacity:1; fill:none\" points=\"\n  156.598,374.053 175.496,374.053 \n  \"/>\n<path clip-path=\"url(#clip100)\" d=\"M63.4226 1431.51 Q59.8115 1431.51 57.9828 1435.08 Q56.1773 1438.62 56.1773 1445.75 Q56.1773 1452.86 57.9828 1456.42 Q59.8115 1459.96 63.4226 1459.96 Q67.0569 1459.96 68.8624 1456.42 Q70.6911 1452.86 70.6911 1445.75 Q70.6911 1438.62 68.8624 1435.08 Q67.0569 1431.51 63.4226 1431.51 M63.4226 1427.81 Q69.2328 1427.81 72.2883 1432.42 Q75.367 1437 75.367 1445.75 Q75.367 1454.48 72.2883 1459.08 Q69.2328 1463.67 63.4226 1463.67 Q57.6125 1463.67 54.5338 1459.08 Q51.4782 1454.48 51.4782 1445.75 Q51.4782 1437 54.5338 1432.42 Q57.6125 1427.81 63.4226 1427.81 Z\" fill=\"#000000\" fill-rule=\"evenodd\" fill-opacity=\"1\" /><path clip-path=\"url(#clip100)\" d=\"M83.5845 1457.12 L88.4688 1457.12 L88.4688 1463 L83.5845 1463 L83.5845 1457.12 Z\" fill=\"#000000\" fill-rule=\"evenodd\" fill-opacity=\"1\" /><path clip-path=\"url(#clip100)\" d=\"M108.654 1431.51 Q105.043 1431.51 103.214 1435.08 Q101.409 1438.62 101.409 1445.75 Q101.409 1452.86 103.214 1456.42 Q105.043 1459.96 108.654 1459.96 Q112.288 1459.96 114.094 1456.42 Q115.922 1452.86 115.922 1445.75 Q115.922 1438.62 114.094 1435.08 Q112.288 1431.51 108.654 1431.51 M108.654 1427.81 Q114.464 1427.81 117.52 1432.42 Q120.598 1437 120.598 1445.75 Q120.598 1454.48 117.52 1459.08 Q114.464 1463.67 108.654 1463.67 Q102.844 1463.67 99.765 1459.08 Q96.7095 1454.48 96.7095 1445.75 Q96.7095 1437 99.765 1432.42 Q102.844 1427.81 108.654 1427.81 Z\" fill=\"#000000\" fill-rule=\"evenodd\" fill-opacity=\"1\" /><path clip-path=\"url(#clip100)\" d=\"M65.0198 1074.29 Q61.4087 1074.29 59.58 1077.86 Q57.7745 1081.4 57.7745 1088.53 Q57.7745 1095.64 59.58 1099.2 Q61.4087 1102.74 65.0198 1102.74 Q68.6541 1102.74 70.4596 1099.2 Q72.2883 1095.64 72.2883 1088.53 Q72.2883 1081.4 70.4596 1077.86 Q68.6541 1074.29 65.0198 1074.29 M65.0198 1070.59 Q70.83 1070.59 73.8855 1075.2 Q76.9642 1079.78 76.9642 1088.53 Q76.9642 1097.26 73.8855 1101.86 Q70.83 1106.45 65.0198 1106.45 Q59.2097 1106.45 56.131 1101.86 Q53.0754 1097.26 53.0754 1088.53 Q53.0754 1079.78 56.131 1075.2 Q59.2097 1070.59 65.0198 1070.59 Z\" fill=\"#000000\" fill-rule=\"evenodd\" fill-opacity=\"1\" /><path clip-path=\"url(#clip100)\" d=\"M85.1818 1099.9 L90.066 1099.9 L90.066 1105.77 L85.1818 1105.77 L85.1818 1099.9 Z\" fill=\"#000000\" fill-rule=\"evenodd\" fill-opacity=\"1\" /><path clip-path=\"url(#clip100)\" d=\"M104.279 1101.84 L120.598 1101.84 L120.598 1105.77 L98.6539 1105.77 L98.6539 1101.84 Q101.316 1099.09 105.899 1094.46 Q110.506 1089.8 111.686 1088.46 Q113.932 1085.94 114.811 1084.2 Q115.714 1082.44 115.714 1080.75 Q115.714 1078 113.77 1076.26 Q111.848 1074.53 108.746 1074.53 Q106.547 1074.53 104.094 1075.29 Q101.663 1076.05 98.8854 1077.6 L98.8854 1072.88 Q101.709 1071.75 104.163 1071.17 Q106.617 1070.59 108.654 1070.59 Q114.024 1070.59 117.219 1073.28 Q120.413 1075.96 120.413 1080.45 Q120.413 1082.58 119.603 1084.5 Q118.816 1086.4 116.709 1088.99 Q116.131 1089.66 113.029 1092.88 Q109.927 1096.08 104.279 1101.84 Z\" fill=\"#000000\" fill-rule=\"evenodd\" fill-opacity=\"1\" /><path clip-path=\"url(#clip100)\" d=\"M62.9365 717.073 Q59.3254 717.073 57.4967 720.638 Q55.6912 724.179 55.6912 731.309 Q55.6912 738.415 57.4967 741.98 Q59.3254 745.522 62.9365 745.522 Q66.5707 745.522 68.3763 741.98 Q70.205 738.415 70.205 731.309 Q70.205 724.179 68.3763 720.638 Q66.5707 717.073 62.9365 717.073 M62.9365 713.369 Q68.7467 713.369 71.8022 717.975 Q74.8809 722.559 74.8809 731.309 Q74.8809 740.036 71.8022 744.642 Q68.7467 749.225 62.9365 749.225 Q57.1264 749.225 54.0477 744.642 Q50.9921 740.036 50.9921 731.309 Q50.9921 722.559 54.0477 717.975 Q57.1264 713.369 62.9365 713.369 Z\" fill=\"#000000\" fill-rule=\"evenodd\" fill-opacity=\"1\" /><path clip-path=\"url(#clip100)\" d=\"M83.0984 742.674 L87.9827 742.674 L87.9827 748.554 L83.0984 748.554 L83.0984 742.674 Z\" fill=\"#000000\" fill-rule=\"evenodd\" fill-opacity=\"1\" /><path clip-path=\"url(#clip100)\" d=\"M111.015 718.068 L99.2095 736.517 L111.015 736.517 L111.015 718.068 M109.788 713.994 L115.668 713.994 L115.668 736.517 L120.598 736.517 L120.598 740.406 L115.668 740.406 L115.668 748.554 L111.015 748.554 L111.015 740.406 L95.4132 740.406 L95.4132 735.892 L109.788 713.994 Z\" fill=\"#000000\" fill-rule=\"evenodd\" fill-opacity=\"1\" /><path clip-path=\"url(#clip100)\" d=\"M63.2606 359.852 Q59.6495 359.852 57.8208 363.417 Q56.0152 366.958 56.0152 374.088 Q56.0152 381.194 57.8208 384.759 Q59.6495 388.301 63.2606 388.301 Q66.8948 388.301 68.7004 384.759 Q70.5291 381.194 70.5291 374.088 Q70.5291 366.958 68.7004 363.417 Q66.8948 359.852 63.2606 359.852 M63.2606 356.148 Q69.0707 356.148 72.1263 360.755 Q75.205 365.338 75.205 374.088 Q75.205 382.815 72.1263 387.421 Q69.0707 392.004 63.2606 392.004 Q57.4504 392.004 54.3717 387.421 Q51.3162 382.815 51.3162 374.088 Q51.3162 365.338 54.3717 360.755 Q57.4504 356.148 63.2606 356.148 Z\" fill=\"#000000\" fill-rule=\"evenodd\" fill-opacity=\"1\" /><path clip-path=\"url(#clip100)\" d=\"M83.4225 385.454 L88.3067 385.454 L88.3067 391.333 L83.4225 391.333 L83.4225 385.454 Z\" fill=\"#000000\" fill-rule=\"evenodd\" fill-opacity=\"1\" /><path clip-path=\"url(#clip100)\" d=\"M109.071 372.19 Q105.922 372.19 104.071 374.343 Q102.242 376.495 102.242 380.245 Q102.242 383.972 104.071 386.148 Q105.922 388.301 109.071 388.301 Q112.219 388.301 114.047 386.148 Q115.899 383.972 115.899 380.245 Q115.899 376.495 114.047 374.343 Q112.219 372.19 109.071 372.19 M118.353 357.537 L118.353 361.796 Q116.594 360.963 114.788 360.523 Q113.006 360.083 111.246 360.083 Q106.617 360.083 104.163 363.208 Q101.733 366.333 101.385 372.653 Q102.751 370.639 104.811 369.574 Q106.871 368.486 109.348 368.486 Q114.557 368.486 117.566 371.657 Q120.598 374.806 120.598 380.245 Q120.598 385.569 117.45 388.787 Q114.302 392.004 109.071 392.004 Q103.075 392.004 99.9039 387.421 Q96.7326 382.815 96.7326 374.088 Q96.7326 365.894 100.621 361.032 Q104.51 356.148 111.061 356.148 Q112.82 356.148 114.603 356.495 Q116.408 356.843 118.353 357.537 Z\" fill=\"#000000\" fill-rule=\"evenodd\" fill-opacity=\"1\" /><polyline clip-path=\"url(#clip102)\" style=\"stroke:#009af9; stroke-linecap:round; stroke-linejoin:round; stroke-width:4; stroke-opacity:1; fill:none\" points=\"\n  218.754,1445.72 425.938,1167.35 633.123,901.949 840.308,661.475 1047.49,455.997 1254.68,292.998 1461.86,176.942 1669.05,109.155 1876.23,87.9763 2083.42,109.173 \n  2290.6,166.533 \n  \"/>\n<path clip-path=\"url(#clip100)\" d=\"\nM229.803 198.898 L501.85 198.898 L501.85 95.2176 L229.803 95.2176  Z\n  \" fill=\"#ffffff\" fill-rule=\"evenodd\" fill-opacity=\"1\"/>\n<polyline clip-path=\"url(#clip100)\" style=\"stroke:#000000; stroke-linecap:round; stroke-linejoin:round; stroke-width:4; stroke-opacity:1; fill:none\" points=\"\n  229.803,198.898 501.85,198.898 501.85,95.2176 229.803,95.2176 229.803,198.898 \n  \"/>\n<polyline clip-path=\"url(#clip100)\" style=\"stroke:#009af9; stroke-linecap:round; stroke-linejoin:round; stroke-width:4; stroke-opacity:1; fill:none\" points=\"\n  254.205,147.058 400.616,147.058 \n  \"/>\n<path clip-path=\"url(#clip100)\" d=\"M438.86 166.745 Q437.054 171.375 435.342 172.787 Q433.629 174.199 430.758 174.199 L427.355 174.199 L427.355 170.634 L429.855 170.634 Q431.615 170.634 432.587 169.8 Q433.559 168.967 434.74 165.865 L435.504 163.921 L425.018 138.412 L429.531 138.412 L437.633 158.689 L445.735 138.412 L450.249 138.412 L438.86 166.745 Z\" fill=\"#000000\" fill-rule=\"evenodd\" fill-opacity=\"1\" /><path clip-path=\"url(#clip100)\" d=\"M457.54 160.402 L465.179 160.402 L465.179 134.037 L456.869 135.703 L456.869 131.444 L465.133 129.778 L469.809 129.778 L469.809 160.402 L477.448 160.402 L477.448 164.338 L457.54 164.338 L457.54 160.402 Z\" fill=\"#000000\" fill-rule=\"evenodd\" fill-opacity=\"1\" /></svg>\n",
      "text/html": [
       "<?xml version=\"1.0\" encoding=\"utf-8\"?>\n",
       "<svg xmlns=\"http://www.w3.org/2000/svg\" xmlns:xlink=\"http://www.w3.org/1999/xlink\" width=\"600\" height=\"400\" viewBox=\"0 0 2400 1600\">\n",
       "<defs>\n",
       "  <clipPath id=\"clip150\">\n",
       "    <rect x=\"0\" y=\"0\" width=\"2400\" height=\"1600\"/>\n",
       "  </clipPath>\n",
       "</defs>\n",
       "<path clip-path=\"url(#clip150)\" d=\"\n",
       "M0 1600 L2400 1600 L2400 0 L0 0  Z\n",
       "  \" fill=\"#ffffff\" fill-rule=\"evenodd\" fill-opacity=\"1\"/>\n",
       "<defs>\n",
       "  <clipPath id=\"clip151\">\n",
       "    <rect x=\"480\" y=\"0\" width=\"1681\" height=\"1600\"/>\n",
       "  </clipPath>\n",
       "</defs>\n",
       "<path clip-path=\"url(#clip150)\" d=\"\n",
       "M156.598 1486.45 L2352.76 1486.45 L2352.76 47.2441 L156.598 47.2441  Z\n",
       "  \" fill=\"#ffffff\" fill-rule=\"evenodd\" fill-opacity=\"1\"/>\n",
       "<defs>\n",
       "  <clipPath id=\"clip152\">\n",
       "    <rect x=\"156\" y=\"47\" width=\"2197\" height=\"1440\"/>\n",
       "  </clipPath>\n",
       "</defs>\n",
       "<polyline clip-path=\"url(#clip152)\" style=\"stroke:#000000; stroke-linecap:round; stroke-linejoin:round; stroke-width:2; stroke-opacity:0.1; fill:none\" points=\"\n",
       "  425.938,1486.45 425.938,47.2441 \n",
       "  \"/>\n",
       "<polyline clip-path=\"url(#clip152)\" style=\"stroke:#000000; stroke-linecap:round; stroke-linejoin:round; stroke-width:2; stroke-opacity:0.1; fill:none\" points=\"\n",
       "  840.308,1486.45 840.308,47.2441 \n",
       "  \"/>\n",
       "<polyline clip-path=\"url(#clip152)\" style=\"stroke:#000000; stroke-linecap:round; stroke-linejoin:round; stroke-width:2; stroke-opacity:0.1; fill:none\" points=\"\n",
       "  1254.68,1486.45 1254.68,47.2441 \n",
       "  \"/>\n",
       "<polyline clip-path=\"url(#clip152)\" style=\"stroke:#000000; stroke-linecap:round; stroke-linejoin:round; stroke-width:2; stroke-opacity:0.1; fill:none\" points=\"\n",
       "  1669.05,1486.45 1669.05,47.2441 \n",
       "  \"/>\n",
       "<polyline clip-path=\"url(#clip152)\" style=\"stroke:#000000; stroke-linecap:round; stroke-linejoin:round; stroke-width:2; stroke-opacity:0.1; fill:none\" points=\"\n",
       "  2083.42,1486.45 2083.42,47.2441 \n",
       "  \"/>\n",
       "<polyline clip-path=\"url(#clip150)\" style=\"stroke:#000000; stroke-linecap:round; stroke-linejoin:round; stroke-width:4; stroke-opacity:1; fill:none\" points=\"\n",
       "  156.598,1486.45 2352.76,1486.45 \n",
       "  \"/>\n",
       "<polyline clip-path=\"url(#clip150)\" style=\"stroke:#000000; stroke-linecap:round; stroke-linejoin:round; stroke-width:4; stroke-opacity:1; fill:none\" points=\"\n",
       "  425.938,1486.45 425.938,1467.55 \n",
       "  \"/>\n",
       "<polyline clip-path=\"url(#clip150)\" style=\"stroke:#000000; stroke-linecap:round; stroke-linejoin:round; stroke-width:4; stroke-opacity:1; fill:none\" points=\"\n",
       "  840.308,1486.45 840.308,1467.55 \n",
       "  \"/>\n",
       "<polyline clip-path=\"url(#clip150)\" style=\"stroke:#000000; stroke-linecap:round; stroke-linejoin:round; stroke-width:4; stroke-opacity:1; fill:none\" points=\"\n",
       "  1254.68,1486.45 1254.68,1467.55 \n",
       "  \"/>\n",
       "<polyline clip-path=\"url(#clip150)\" style=\"stroke:#000000; stroke-linecap:round; stroke-linejoin:round; stroke-width:4; stroke-opacity:1; fill:none\" points=\"\n",
       "  1669.05,1486.45 1669.05,1467.55 \n",
       "  \"/>\n",
       "<polyline clip-path=\"url(#clip150)\" style=\"stroke:#000000; stroke-linecap:round; stroke-linejoin:round; stroke-width:4; stroke-opacity:1; fill:none\" points=\"\n",
       "  2083.42,1486.45 2083.42,1467.55 \n",
       "  \"/>\n",
       "<path clip-path=\"url(#clip150)\" d=\"M420.591 1544.91 L436.91 1544.91 L436.91 1548.85 L414.966 1548.85 L414.966 1544.91 Q417.628 1542.16 422.211 1537.53 Q426.818 1532.88 427.999 1531.53 Q430.244 1529.01 431.123 1527.27 Q432.026 1525.51 432.026 1523.82 Q432.026 1521.07 430.082 1519.33 Q428.161 1517.6 425.059 1517.6 Q422.86 1517.6 420.406 1518.36 Q417.975 1519.13 415.198 1520.68 L415.198 1515.95 Q418.022 1514.82 420.475 1514.24 Q422.929 1513.66 424.966 1513.66 Q430.336 1513.66 433.531 1516.35 Q436.725 1519.03 436.725 1523.52 Q436.725 1525.65 435.915 1527.57 Q435.128 1529.47 433.022 1532.07 Q432.443 1532.74 429.341 1535.95 Q426.239 1539.15 420.591 1544.91 Z\" fill=\"#000000\" fill-rule=\"evenodd\" fill-opacity=\"1\" /><path clip-path=\"url(#clip150)\" d=\"M843.317 1518.36 L831.511 1536.81 L843.317 1536.81 L843.317 1518.36 M842.09 1514.29 L847.97 1514.29 L847.97 1536.81 L852.9 1536.81 L852.9 1540.7 L847.97 1540.7 L847.97 1548.85 L843.317 1548.85 L843.317 1540.7 L827.715 1540.7 L827.715 1536.19 L842.09 1514.29 Z\" fill=\"#000000\" fill-rule=\"evenodd\" fill-opacity=\"1\" /><path clip-path=\"url(#clip150)\" d=\"M1255.08 1529.7 Q1251.93 1529.7 1250.08 1531.86 Q1248.25 1534.01 1248.25 1537.76 Q1248.25 1541.49 1250.08 1543.66 Q1251.93 1545.82 1255.08 1545.82 Q1258.23 1545.82 1260.06 1543.66 Q1261.91 1541.49 1261.91 1537.76 Q1261.91 1534.01 1260.06 1531.86 Q1258.23 1529.7 1255.08 1529.7 M1264.36 1515.05 L1264.36 1519.31 Q1262.61 1518.48 1260.8 1518.04 Q1259.02 1517.6 1257.26 1517.6 Q1252.63 1517.6 1250.17 1520.72 Q1247.74 1523.85 1247.4 1530.17 Q1248.76 1528.15 1250.82 1527.09 Q1252.88 1526 1255.36 1526 Q1260.57 1526 1263.58 1529.17 Q1266.61 1532.32 1266.61 1537.76 Q1266.61 1543.08 1263.46 1546.3 Q1260.31 1549.52 1255.08 1549.52 Q1249.09 1549.52 1245.92 1544.94 Q1242.74 1540.33 1242.74 1531.6 Q1242.74 1523.41 1246.63 1518.55 Q1250.52 1513.66 1257.07 1513.66 Q1258.83 1513.66 1260.61 1514.01 Q1262.42 1514.36 1264.36 1515.05 Z\" fill=\"#000000\" fill-rule=\"evenodd\" fill-opacity=\"1\" /><path clip-path=\"url(#clip150)\" d=\"M1669.05 1532.44 Q1665.71 1532.44 1663.79 1534.22 Q1661.89 1536 1661.89 1539.13 Q1661.89 1542.25 1663.79 1544.03 Q1665.71 1545.82 1669.05 1545.82 Q1672.38 1545.82 1674.3 1544.03 Q1676.22 1542.23 1676.22 1539.13 Q1676.22 1536 1674.3 1534.22 Q1672.4 1532.44 1669.05 1532.44 M1664.37 1530.45 Q1661.36 1529.7 1659.67 1527.64 Q1658 1525.58 1658 1522.62 Q1658 1518.48 1660.94 1516.07 Q1663.91 1513.66 1669.05 1513.66 Q1674.21 1513.66 1677.15 1516.07 Q1680.09 1518.48 1680.09 1522.62 Q1680.09 1525.58 1678.4 1527.64 Q1676.73 1529.7 1673.75 1530.45 Q1677.13 1531.23 1679 1533.52 Q1680.9 1535.82 1680.9 1539.13 Q1680.9 1544.15 1677.82 1546.83 Q1674.76 1549.52 1669.05 1549.52 Q1663.33 1549.52 1660.25 1546.83 Q1657.19 1544.15 1657.19 1539.13 Q1657.19 1535.82 1659.09 1533.52 Q1660.99 1531.23 1664.37 1530.45 M1662.66 1523.06 Q1662.66 1525.75 1664.32 1527.25 Q1666.01 1528.76 1669.05 1528.76 Q1672.06 1528.76 1673.75 1527.25 Q1675.46 1525.75 1675.46 1523.06 Q1675.46 1520.38 1673.75 1518.87 Q1672.06 1517.37 1669.05 1517.37 Q1666.01 1517.37 1664.32 1518.87 Q1662.66 1520.38 1662.66 1523.06 Z\" fill=\"#000000\" fill-rule=\"evenodd\" fill-opacity=\"1\" /><path clip-path=\"url(#clip150)\" d=\"M2058.1 1544.91 L2065.74 1544.91 L2065.74 1518.55 L2057.43 1520.21 L2057.43 1515.95 L2065.7 1514.29 L2070.37 1514.29 L2070.37 1544.91 L2078.01 1544.91 L2078.01 1548.85 L2058.1 1548.85 L2058.1 1544.91 Z\" fill=\"#000000\" fill-rule=\"evenodd\" fill-opacity=\"1\" /><path clip-path=\"url(#clip150)\" d=\"M2097.46 1517.37 Q2093.84 1517.37 2092.02 1520.93 Q2090.21 1524.47 2090.21 1531.6 Q2090.21 1538.71 2092.02 1542.27 Q2093.84 1545.82 2097.46 1545.82 Q2101.09 1545.82 2102.89 1542.27 Q2104.72 1538.71 2104.72 1531.6 Q2104.72 1524.47 2102.89 1520.93 Q2101.09 1517.37 2097.46 1517.37 M2097.46 1513.66 Q2103.27 1513.66 2106.32 1518.27 Q2109.4 1522.85 2109.4 1531.6 Q2109.4 1540.33 2106.32 1544.94 Q2103.27 1549.52 2097.46 1549.52 Q2091.64 1549.52 2088.57 1544.94 Q2085.51 1540.33 2085.51 1531.6 Q2085.51 1522.85 2088.57 1518.27 Q2091.64 1513.66 2097.46 1513.66 Z\" fill=\"#000000\" fill-rule=\"evenodd\" fill-opacity=\"1\" /><polyline clip-path=\"url(#clip152)\" style=\"stroke:#000000; stroke-linecap:round; stroke-linejoin:round; stroke-width:2; stroke-opacity:0.1; fill:none\" points=\"\n",
       "  156.598,1445.72 2352.76,1445.72 \n",
       "  \"/>\n",
       "<polyline clip-path=\"url(#clip152)\" style=\"stroke:#000000; stroke-linecap:round; stroke-linejoin:round; stroke-width:2; stroke-opacity:0.1; fill:none\" points=\"\n",
       "  156.598,1088.49 2352.76,1088.49 \n",
       "  \"/>\n",
       "<polyline clip-path=\"url(#clip152)\" style=\"stroke:#000000; stroke-linecap:round; stroke-linejoin:round; stroke-width:2; stroke-opacity:0.1; fill:none\" points=\"\n",
       "  156.598,731.274 2352.76,731.274 \n",
       "  \"/>\n",
       "<polyline clip-path=\"url(#clip152)\" style=\"stroke:#000000; stroke-linecap:round; stroke-linejoin:round; stroke-width:2; stroke-opacity:0.1; fill:none\" points=\"\n",
       "  156.598,374.053 2352.76,374.053 \n",
       "  \"/>\n",
       "<polyline clip-path=\"url(#clip150)\" style=\"stroke:#000000; stroke-linecap:round; stroke-linejoin:round; stroke-width:4; stroke-opacity:1; fill:none\" points=\"\n",
       "  156.598,1486.45 156.598,47.2441 \n",
       "  \"/>\n",
       "<polyline clip-path=\"url(#clip150)\" style=\"stroke:#000000; stroke-linecap:round; stroke-linejoin:round; stroke-width:4; stroke-opacity:1; fill:none\" points=\"\n",
       "  156.598,1445.72 175.496,1445.72 \n",
       "  \"/>\n",
       "<polyline clip-path=\"url(#clip150)\" style=\"stroke:#000000; stroke-linecap:round; stroke-linejoin:round; stroke-width:4; stroke-opacity:1; fill:none\" points=\"\n",
       "  156.598,1088.49 175.496,1088.49 \n",
       "  \"/>\n",
       "<polyline clip-path=\"url(#clip150)\" style=\"stroke:#000000; stroke-linecap:round; stroke-linejoin:round; stroke-width:4; stroke-opacity:1; fill:none\" points=\"\n",
       "  156.598,731.274 175.496,731.274 \n",
       "  \"/>\n",
       "<polyline clip-path=\"url(#clip150)\" style=\"stroke:#000000; stroke-linecap:round; stroke-linejoin:round; stroke-width:4; stroke-opacity:1; fill:none\" points=\"\n",
       "  156.598,374.053 175.496,374.053 \n",
       "  \"/>\n",
       "<path clip-path=\"url(#clip150)\" d=\"M63.4226 1431.51 Q59.8115 1431.51 57.9828 1435.08 Q56.1773 1438.62 56.1773 1445.75 Q56.1773 1452.86 57.9828 1456.42 Q59.8115 1459.96 63.4226 1459.96 Q67.0569 1459.96 68.8624 1456.42 Q70.6911 1452.86 70.6911 1445.75 Q70.6911 1438.62 68.8624 1435.08 Q67.0569 1431.51 63.4226 1431.51 M63.4226 1427.81 Q69.2328 1427.81 72.2883 1432.42 Q75.367 1437 75.367 1445.75 Q75.367 1454.48 72.2883 1459.08 Q69.2328 1463.67 63.4226 1463.67 Q57.6125 1463.67 54.5338 1459.08 Q51.4782 1454.48 51.4782 1445.75 Q51.4782 1437 54.5338 1432.42 Q57.6125 1427.81 63.4226 1427.81 Z\" fill=\"#000000\" fill-rule=\"evenodd\" fill-opacity=\"1\" /><path clip-path=\"url(#clip150)\" d=\"M83.5845 1457.12 L88.4688 1457.12 L88.4688 1463 L83.5845 1463 L83.5845 1457.12 Z\" fill=\"#000000\" fill-rule=\"evenodd\" fill-opacity=\"1\" /><path clip-path=\"url(#clip150)\" d=\"M108.654 1431.51 Q105.043 1431.51 103.214 1435.08 Q101.409 1438.62 101.409 1445.75 Q101.409 1452.86 103.214 1456.42 Q105.043 1459.96 108.654 1459.96 Q112.288 1459.96 114.094 1456.42 Q115.922 1452.86 115.922 1445.75 Q115.922 1438.62 114.094 1435.08 Q112.288 1431.51 108.654 1431.51 M108.654 1427.81 Q114.464 1427.81 117.52 1432.42 Q120.598 1437 120.598 1445.75 Q120.598 1454.48 117.52 1459.08 Q114.464 1463.67 108.654 1463.67 Q102.844 1463.67 99.765 1459.08 Q96.7095 1454.48 96.7095 1445.75 Q96.7095 1437 99.765 1432.42 Q102.844 1427.81 108.654 1427.81 Z\" fill=\"#000000\" fill-rule=\"evenodd\" fill-opacity=\"1\" /><path clip-path=\"url(#clip150)\" d=\"M65.0198 1074.29 Q61.4087 1074.29 59.58 1077.86 Q57.7745 1081.4 57.7745 1088.53 Q57.7745 1095.64 59.58 1099.2 Q61.4087 1102.74 65.0198 1102.74 Q68.6541 1102.74 70.4596 1099.2 Q72.2883 1095.64 72.2883 1088.53 Q72.2883 1081.4 70.4596 1077.86 Q68.6541 1074.29 65.0198 1074.29 M65.0198 1070.59 Q70.83 1070.59 73.8855 1075.2 Q76.9642 1079.78 76.9642 1088.53 Q76.9642 1097.26 73.8855 1101.86 Q70.83 1106.45 65.0198 1106.45 Q59.2097 1106.45 56.131 1101.86 Q53.0754 1097.26 53.0754 1088.53 Q53.0754 1079.78 56.131 1075.2 Q59.2097 1070.59 65.0198 1070.59 Z\" fill=\"#000000\" fill-rule=\"evenodd\" fill-opacity=\"1\" /><path clip-path=\"url(#clip150)\" d=\"M85.1818 1099.9 L90.066 1099.9 L90.066 1105.77 L85.1818 1105.77 L85.1818 1099.9 Z\" fill=\"#000000\" fill-rule=\"evenodd\" fill-opacity=\"1\" /><path clip-path=\"url(#clip150)\" d=\"M104.279 1101.84 L120.598 1101.84 L120.598 1105.77 L98.6539 1105.77 L98.6539 1101.84 Q101.316 1099.09 105.899 1094.46 Q110.506 1089.8 111.686 1088.46 Q113.932 1085.94 114.811 1084.2 Q115.714 1082.44 115.714 1080.75 Q115.714 1078 113.77 1076.26 Q111.848 1074.53 108.746 1074.53 Q106.547 1074.53 104.094 1075.29 Q101.663 1076.05 98.8854 1077.6 L98.8854 1072.88 Q101.709 1071.75 104.163 1071.17 Q106.617 1070.59 108.654 1070.59 Q114.024 1070.59 117.219 1073.28 Q120.413 1075.96 120.413 1080.45 Q120.413 1082.58 119.603 1084.5 Q118.816 1086.4 116.709 1088.99 Q116.131 1089.66 113.029 1092.88 Q109.927 1096.08 104.279 1101.84 Z\" fill=\"#000000\" fill-rule=\"evenodd\" fill-opacity=\"1\" /><path clip-path=\"url(#clip150)\" d=\"M62.9365 717.073 Q59.3254 717.073 57.4967 720.638 Q55.6912 724.179 55.6912 731.309 Q55.6912 738.415 57.4967 741.98 Q59.3254 745.522 62.9365 745.522 Q66.5707 745.522 68.3763 741.98 Q70.205 738.415 70.205 731.309 Q70.205 724.179 68.3763 720.638 Q66.5707 717.073 62.9365 717.073 M62.9365 713.369 Q68.7467 713.369 71.8022 717.975 Q74.8809 722.559 74.8809 731.309 Q74.8809 740.036 71.8022 744.642 Q68.7467 749.225 62.9365 749.225 Q57.1264 749.225 54.0477 744.642 Q50.9921 740.036 50.9921 731.309 Q50.9921 722.559 54.0477 717.975 Q57.1264 713.369 62.9365 713.369 Z\" fill=\"#000000\" fill-rule=\"evenodd\" fill-opacity=\"1\" /><path clip-path=\"url(#clip150)\" d=\"M83.0984 742.674 L87.9827 742.674 L87.9827 748.554 L83.0984 748.554 L83.0984 742.674 Z\" fill=\"#000000\" fill-rule=\"evenodd\" fill-opacity=\"1\" /><path clip-path=\"url(#clip150)\" d=\"M111.015 718.068 L99.2095 736.517 L111.015 736.517 L111.015 718.068 M109.788 713.994 L115.668 713.994 L115.668 736.517 L120.598 736.517 L120.598 740.406 L115.668 740.406 L115.668 748.554 L111.015 748.554 L111.015 740.406 L95.4132 740.406 L95.4132 735.892 L109.788 713.994 Z\" fill=\"#000000\" fill-rule=\"evenodd\" fill-opacity=\"1\" /><path clip-path=\"url(#clip150)\" d=\"M63.2606 359.852 Q59.6495 359.852 57.8208 363.417 Q56.0152 366.958 56.0152 374.088 Q56.0152 381.194 57.8208 384.759 Q59.6495 388.301 63.2606 388.301 Q66.8948 388.301 68.7004 384.759 Q70.5291 381.194 70.5291 374.088 Q70.5291 366.958 68.7004 363.417 Q66.8948 359.852 63.2606 359.852 M63.2606 356.148 Q69.0707 356.148 72.1263 360.755 Q75.205 365.338 75.205 374.088 Q75.205 382.815 72.1263 387.421 Q69.0707 392.004 63.2606 392.004 Q57.4504 392.004 54.3717 387.421 Q51.3162 382.815 51.3162 374.088 Q51.3162 365.338 54.3717 360.755 Q57.4504 356.148 63.2606 356.148 Z\" fill=\"#000000\" fill-rule=\"evenodd\" fill-opacity=\"1\" /><path clip-path=\"url(#clip150)\" d=\"M83.4225 385.454 L88.3067 385.454 L88.3067 391.333 L83.4225 391.333 L83.4225 385.454 Z\" fill=\"#000000\" fill-rule=\"evenodd\" fill-opacity=\"1\" /><path clip-path=\"url(#clip150)\" d=\"M109.071 372.19 Q105.922 372.19 104.071 374.343 Q102.242 376.495 102.242 380.245 Q102.242 383.972 104.071 386.148 Q105.922 388.301 109.071 388.301 Q112.219 388.301 114.047 386.148 Q115.899 383.972 115.899 380.245 Q115.899 376.495 114.047 374.343 Q112.219 372.19 109.071 372.19 M118.353 357.537 L118.353 361.796 Q116.594 360.963 114.788 360.523 Q113.006 360.083 111.246 360.083 Q106.617 360.083 104.163 363.208 Q101.733 366.333 101.385 372.653 Q102.751 370.639 104.811 369.574 Q106.871 368.486 109.348 368.486 Q114.557 368.486 117.566 371.657 Q120.598 374.806 120.598 380.245 Q120.598 385.569 117.45 388.787 Q114.302 392.004 109.071 392.004 Q103.075 392.004 99.9039 387.421 Q96.7326 382.815 96.7326 374.088 Q96.7326 365.894 100.621 361.032 Q104.51 356.148 111.061 356.148 Q112.82 356.148 114.603 356.495 Q116.408 356.843 118.353 357.537 Z\" fill=\"#000000\" fill-rule=\"evenodd\" fill-opacity=\"1\" /><polyline clip-path=\"url(#clip152)\" style=\"stroke:#009af9; stroke-linecap:round; stroke-linejoin:round; stroke-width:4; stroke-opacity:1; fill:none\" points=\"\n",
       "  218.754,1445.72 425.938,1167.35 633.123,901.949 840.308,661.475 1047.49,455.997 1254.68,292.998 1461.86,176.942 1669.05,109.155 1876.23,87.9763 2083.42,109.173 \n",
       "  2290.6,166.533 \n",
       "  \"/>\n",
       "<path clip-path=\"url(#clip150)\" d=\"\n",
       "M229.803 198.898 L501.85 198.898 L501.85 95.2176 L229.803 95.2176  Z\n",
       "  \" fill=\"#ffffff\" fill-rule=\"evenodd\" fill-opacity=\"1\"/>\n",
       "<polyline clip-path=\"url(#clip150)\" style=\"stroke:#000000; stroke-linecap:round; stroke-linejoin:round; stroke-width:4; stroke-opacity:1; fill:none\" points=\"\n",
       "  229.803,198.898 501.85,198.898 501.85,95.2176 229.803,95.2176 229.803,198.898 \n",
       "  \"/>\n",
       "<polyline clip-path=\"url(#clip150)\" style=\"stroke:#009af9; stroke-linecap:round; stroke-linejoin:round; stroke-width:4; stroke-opacity:1; fill:none\" points=\"\n",
       "  254.205,147.058 400.616,147.058 \n",
       "  \"/>\n",
       "<path clip-path=\"url(#clip150)\" d=\"M438.86 166.745 Q437.054 171.375 435.342 172.787 Q433.629 174.199 430.758 174.199 L427.355 174.199 L427.355 170.634 L429.855 170.634 Q431.615 170.634 432.587 169.8 Q433.559 168.967 434.74 165.865 L435.504 163.921 L425.018 138.412 L429.531 138.412 L437.633 158.689 L445.735 138.412 L450.249 138.412 L438.86 166.745 Z\" fill=\"#000000\" fill-rule=\"evenodd\" fill-opacity=\"1\" /><path clip-path=\"url(#clip150)\" d=\"M457.54 160.402 L465.179 160.402 L465.179 134.037 L456.869 135.703 L456.869 131.444 L465.133 129.778 L469.809 129.778 L469.809 160.402 L477.448 160.402 L477.448 164.338 L457.54 164.338 L457.54 160.402 Z\" fill=\"#000000\" fill-rule=\"evenodd\" fill-opacity=\"1\" /></svg>\n"
      ]
     },
     "metadata": {},
     "output_type": "display_data"
    }
   ],
   "source": [
    "plot([s.level_spacing_pdf(s.GOE(), x) for x in 0:0.1:1];\n",
    ")"
   ]
  },
  {
   "cell_type": "markdown",
   "metadata": {},
   "source": [
    "## changing models  to `Val` types"
   ]
  },
  {
   "cell_type": "code",
   "execution_count": 27,
   "metadata": {},
   "outputs": [],
   "source": [
    "using SpecialFunctions"
   ]
  },
  {
   "cell_type": "code",
   "execution_count": 28,
   "metadata": {},
   "outputs": [
    {
     "data": {
      "text/plain": [
       "level_spacing_pdf (generic function with 2 methods)"
      ]
     },
     "metadata": {},
     "output_type": "display_data"
    }
   ],
   "source": [
    "function level_spacing_pdf(::Val{:GOE}, s; n=1)\n",
    "    #Wigner surmises for higher orders Wen-Jia Rao\n",
    "    beta = 1.0 #level repulsion\n",
    "    a = 0.5*n*(n+1.0)*beta + n -1\n",
    "    A =  (gamma(0.5*a + 1.0)/gamma(0.5*a + 0.5) )^2.0 \n",
    "    C = (2.0*(gamma(0.5*a + 1.0))^(a + 1.0)) / ((gamma(0.5*a + 0.5))^(a + 2.0))\n",
    "    return @. C * s^a * exp(-A * s^2.0)\n",
    "end"
   ]
  },
  {
   "cell_type": "code",
   "execution_count": 29,
   "metadata": {},
   "outputs": [
    {
     "data": {
      "text/plain": [
       "level_spacing_pdf (generic function with 2 methods)"
      ]
     },
     "metadata": {},
     "output_type": "display_data"
    }
   ],
   "source": [
    "function level_spacing_pdf(::Val{:GUE}, s; n=1)\n",
    "    #Wigner surmises for higher orders Wen-Jia Rao\n",
    "    beta = 2.0 #level repulsion\n",
    "    a = 0.5*n*(n+1.0)*beta + n -1\n",
    "    A =  (gamma(0.5*a + 1.0)/gamma(0.5*a + 0.5) )^2.0 \n",
    "    C = (2.0*(gamma(0.5*a + 1.0))^(a + 1.0)) / ((gamma(0.5*a + 0.5))^(a + 2.0))\n",
    "    return @. C * s^a * exp(-A * s^2.0)\n",
    "end"
   ]
  },
  {
   "cell_type": "code",
   "execution_count": 30,
   "metadata": {},
   "outputs": [
    {
     "data": {
      "text/plain": [
       "Val{:GUE}()"
      ]
     },
     "metadata": {},
     "output_type": "display_data"
    }
   ],
   "source": [
    "vGOE = Val(:GOE)\n",
    "vGUE = Val(:GUE)"
   ]
  },
  {
   "cell_type": "code",
   "execution_count": 31,
   "metadata": {},
   "outputs": [
    {
     "data": {
      "text/plain": [
       "0.7161859363405692"
      ]
     },
     "metadata": {},
     "output_type": "display_data"
    }
   ],
   "source": [
    "level_spacing_pdf(vGOE, 1)"
   ]
  },
  {
   "cell_type": "code",
   "execution_count": 32,
   "metadata": {},
   "outputs": [
    {
     "data": {
      "text/plain": [
       "0.9075892109166814"
      ]
     },
     "metadata": {},
     "output_type": "display_data"
    }
   ],
   "source": [
    "level_spacing_pdf(vGUE, 1)"
   ]
  },
  {
   "cell_type": "code",
   "execution_count": 34,
   "metadata": {},
   "outputs": [
    {
     "ename": "MethodError",
     "evalue": "MethodError: no method matching level_spacing_pdf(::SpectralStatistics.BerryRobnik, ::Int64)\nClosest candidates are:\n  level_spacing_pdf(!Matched::Val{:GOE}, ::Any; n) at ~/MEGA/phd/Julia/SpectralStatistics.jl/notebooks/models/nb.ipynb:1\n  level_spacing_pdf(!Matched::Val{:GUE}, ::Any; n) at ~/MEGA/phd/Julia/SpectralStatistics.jl/notebooks/models/nb.ipynb:1",
     "output_type": "error",
     "traceback": [
      "MethodError: no method matching level_spacing_pdf(::SpectralStatistics.BerryRobnik, ::Int64)\n",
      "Closest candidates are:\n",
      "  level_spacing_pdf(!Matched::Val{:GOE}, ::Any; n) at ~/MEGA/phd/Julia/SpectralStatistics.jl/notebooks/models/nb.ipynb:1\n",
      "  level_spacing_pdf(!Matched::Val{:GUE}, ::Any; n) at ~/MEGA/phd/Julia/SpectralStatistics.jl/notebooks/models/nb.ipynb:1\n",
      "\n",
      "Stacktrace:\n",
      " [1] top-level scope\n",
      "   @ ~/MEGA/phd/Julia/SpectralStatistics.jl/notebooks/models/nb.ipynb:1"
     ]
    }
   ],
   "source": [
    "# kwargs ALWAYS have standard arguments, otherwise they are not kwargs!!\n",
    "level_spacing_pdf(s.BerryRobnik(), 1)"
   ]
  },
  {
   "cell_type": "code",
   "execution_count": null,
   "metadata": {},
   "outputs": [],
   "source": []
  }
 ],
 "metadata": {
  "kernelspec": {
   "display_name": "Julia 1.8.3",
   "language": "julia",
   "name": "julia-1.8"
  },
  "language_info": {
   "file_extension": ".jl",
   "mimetype": "application/julia",
   "name": "julia",
   "version": "1.8.3"
  },
  "orig_nbformat": 4
 },
 "nbformat": 4,
 "nbformat_minor": 2
}
